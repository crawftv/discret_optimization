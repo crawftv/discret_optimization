{
 "cells": [
  {
   "cell_type": "code",
   "execution_count": 63,
   "metadata": {},
   "outputs": [
    {
     "name": "stdout",
     "output_type": "stream",
     "text": [
      "([solve_it.<locals>.Item(index=3, value=4, weight=3, taken=False), solve_it.<locals>.Item(index=0, value=8, weight=4, taken=False), solve_it.<locals>.Item(index=1, value=10, weight=5, taken=False), solve_it.<locals>.Item(index=2, value=15, weight=8, taken=False)], 11)\n"
     ]
    }
   ],
   "source": [
    "if __name__ == \"__main__\":\n",
    "    import sys\n",
    "\n",
    "    if len(sys.argv) > 1:\n",
    "        file_location = \"./data/ks_4_0\"\n",
    "        with open(file_location, \"r\") as input_data_file:\n",
    "            input_data = input_data_file.read()\n",
    "        print(solve_it(input_data))\n",
    "    else:\n",
    "        print(\n",
    "            \"This test requires an input file.  Please select one from the data directory. (i.e. python solver.py ./data/ks_4_0)\"\n",
    "        )"
   ]
  },
  {
   "cell_type": "code",
   "execution_count": 140,
   "metadata": {},
   "outputs": [],
   "source": [
    "from dataclasses import dataclass\n",
    "from math import floor\n",
    "from functools import reduce\n",
    "\n",
    "\n",
    "def solve_it(input_data):\n",
    "    # Modify this code to run your optimization algorithm\n",
    "\n",
    "    # parse the input\n",
    "    @dataclass\n",
    "    class Item:\n",
    "        index: int\n",
    "        value: int\n",
    "        weight: int\n",
    "        taken: bool = False\n",
    "        \n",
    "        def __hash__(self):\n",
    "            return self.index\n",
    "\n",
    "    lines = input_data.split(\"\\n\")\n",
    "    firstLine = lines[0].split()\n",
    "    item_count = int(firstLine[0])\n",
    "    capacity = int(firstLine[1])\n",
    "\n",
    "    items = []\n",
    "    for i in range(1, item_count + 1):\n",
    "        line = lines[i]\n",
    "        parts = line.split()\n",
    "        items.append(Item(i - 1, int(parts[0]), int(parts[1])))\n",
    "\n",
    "    sorted_items = sorted(items, key=lambda x: x.weight)\n",
    "\n",
    "    return sorted_items, capacity\n",
    "    # prepare the solution in t\n",
    "    # he specified output format\n",
    "\n",
    "    # final_items = {item.weight: item for item in items}\n",
    "    # for i in capacity_dict[capacity][\"items\"]:\n",
    "    #     final_items[i].taken = True\n",
    "    # taken = [int(i.taken) for i in items]\n",
    "    # value = capacity_dict[capacity][\"value\"]\n",
    "    # output_data = str(value) + \" \" + str(0) + \"\\n\"\n",
    "    # output_data += \" \".join(map(str, taken))\n",
    "    # return output_data"
   ]
  },
  {
   "cell_type": "code",
   "execution_count": 141,
   "metadata": {},
   "outputs": [],
   "source": [
    "sorted_items, capacity = solve_it(input_data)"
   ]
  },
  {
   "cell_type": "code",
   "execution_count": 142,
   "metadata": {},
   "outputs": [
    {
     "data": {
      "text/plain": [
       "[solve_it.<locals>.Item(index=3, value=4, weight=3, taken=False),\n",
       " solve_it.<locals>.Item(index=0, value=8, weight=4, taken=False),\n",
       " solve_it.<locals>.Item(index=1, value=10, weight=5, taken=False),\n",
       " solve_it.<locals>.Item(index=2, value=15, weight=8, taken=False)]"
      ]
     },
     "execution_count": 142,
     "metadata": {},
     "output_type": "execute_result"
    }
   ],
   "source": [
    "sorted_items"
   ]
  },
  {
   "cell_type": "markdown",
   "metadata": {},
   "source": [
    "# lists"
   ]
  },
  {
   "cell_type": "code",
   "execution_count": 159,
   "metadata": {},
   "outputs": [
    {
     "name": "stdout",
     "output_type": "stream",
     "text": [
      "3: 3: []\n",
      "4: 3: []\n",
      "5: 3: []\n",
      "6: 3: []\n",
      "7: 3: []\n",
      "8: 3: []\n",
      "9: 3: []\n",
      "10: 3: []\n",
      "11: 3: []\n",
      "4: 4: [3]\n",
      "5: 4: [3]\n",
      "6: 4: [3, 3]\n",
      "7: 4: [3, 3]\n",
      "8: 4: [3, 3]\n",
      "9: 4: [3, 3, 3]\n",
      "10: 4: [3, 3, 3]\n",
      "11: 4: [3, 3, 3]\n",
      "5: 5: [4]\n",
      "6: 5: [3, 3]\n",
      "7: 5: [4, 3]\n",
      "8: 5: [4, 4]\n",
      "9: 5: [4, 4]\n",
      "10: 5: [4, 3, 3]\n",
      "11: 5: [4, 4, 3]\n",
      "8: 8: [4, 4]\n",
      "9: 8: [5, 4]\n",
      "10: 8: [5, 5]\n",
      "11: 8: [4, 4, 3]\n"
     ]
    }
   ],
   "source": [
    "old_list = [ {\"value\":0, \"items\" : [] } for i in range(capacity+1)]\n",
    "for item in sorted_items:\n",
    "    new_list = old_list.copy()\n",
    "    for i in range(item.weight,capacity+1):\n",
    "        new_value = item.value+(old_list[i-item.weight][\"value\"])\n",
    "        print(f\"\"\"{i}: {item.weight}: {[j.weight for j in new_list[i][\"items\"]]}\"\"\")\n",
    "        if  new_value > old_list[i][\"value\"]:\n",
    "            new_list[i][\"value\"] = item.value+(old_list[i-item.weight][\"value\"])\n",
    "            new_list[i][\"items\"] = [item] + old_list[i-item.weight][\"items\"]\n",
    "    old_list = new_list"
   ]
  },
  {
   "cell_type": "markdown",
   "metadata": {},
   "source": [
    "# sets"
   ]
  },
  {
   "cell_type": "code",
   "execution_count": 168,
   "metadata": {},
   "outputs": [
    {
     "data": {
      "text/plain": [
       "[{'value': 0, 'items': set()},\n",
       " {'value': 0, 'items': set()},\n",
       " {'value': 0, 'items': set()},\n",
       " {'value': 0, 'items': set()},\n",
       " {'value': 0, 'items': set()},\n",
       " {'value': 0, 'items': set()},\n",
       " {'value': 0, 'items': set()},\n",
       " {'value': 0, 'items': set()},\n",
       " {'value': 0, 'items': set()},\n",
       " {'value': 0, 'items': set()},\n",
       " {'value': 0, 'items': set()},\n",
       " {'value': 0, 'items': set()}]"
      ]
     },
     "execution_count": 168,
     "metadata": {},
     "output_type": "execute_result"
    }
   ],
   "source": [
    "old_list"
   ]
  },
  {
   "cell_type": "code",
   "execution_count": 170,
   "metadata": {},
   "outputs": [],
   "source": [
    "?reduce"
   ]
  },
  {
   "cell_type": "code",
   "execution_count": 180,
   "metadata": {},
   "outputs": [
    {
     "data": {
      "text/plain": [
       "[1, 0, 0, 1]"
      ]
     },
     "execution_count": 180,
     "metadata": {},
     "output_type": "execute_result"
    }
   ],
   "source": [
    "from functools import reduce\n",
    "old_list = [ {\"value\":0, \"items\" : set() } for i in range(capacity+1)]\n",
    "for item in sorted_items:\n",
    "    new_list = old_list.copy()\n",
    "    for i in range(item.weight,capacity+1):\n",
    "        trial_combo = set([item]).union(old_list[i-item.weight][\"items\"] )\n",
    "        trial_value = reduce(lambda x,y:x+y, [ i.weight for i in list(trial_combo)])\n",
    "        if trial_value > old_list[i][\"value\"]:\n",
    "            new_list[i][\"items\"] = trial_combo \n",
    "            new_list[i][\"value\"] = trial_value\n",
    "\n",
    "for i in new_list[capacity][\"items\"]:\n",
    "    i.taken = True\n",
    "    \n",
    "[int(i.taken) for i in sorted_items]"
   ]
  },
  {
   "cell_type": "code",
   "execution_count": null,
   "metadata": {},
   "outputs": [],
   "source": []
  }
 ],
 "metadata": {
  "kernelspec": {
   "display_name": "Python 3",
   "language": "python",
   "name": "python3"
  },
  "language_info": {
   "codemirror_mode": {
    "name": "ipython",
    "version": 3
   },
   "file_extension": ".py",
   "mimetype": "text/x-python",
   "name": "python",
   "nbconvert_exporter": "python",
   "pygments_lexer": "ipython3",
   "version": "3.8.2"
  }
 },
 "nbformat": 4,
 "nbformat_minor": 4
}
